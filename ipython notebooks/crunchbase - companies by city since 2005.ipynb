{
 "cells": [
  {
   "cell_type": "code",
   "execution_count": 2,
   "metadata": {
    "collapsed": false
   },
   "outputs": [
    {
     "ename": "NameError",
     "evalue": "name 'plotly' is not defined",
     "output_type": "error",
     "traceback": [
      "\u001b[0;31m---------------------------------------------------------------------------\u001b[0m",
      "\u001b[0;31mNameError\u001b[0m                                 Traceback (most recent call last)",
      "\u001b[0;32m<ipython-input-2-297050332d55>\u001b[0m in \u001b[0;36m<module>\u001b[0;34m()\u001b[0m\n\u001b[1;32m     26\u001b[0m \u001b[0;32mimport\u001b[0m \u001b[0mseaborn\u001b[0m \u001b[0;32mas\u001b[0m \u001b[0msns\u001b[0m\u001b[0;34m\u001b[0m\u001b[0m\n\u001b[1;32m     27\u001b[0m \u001b[0;31m#signin plotly api\u001b[0m\u001b[0;34m\u001b[0m\u001b[0;34m\u001b[0m\u001b[0m\n\u001b[0;32m---> 28\u001b[0;31m \u001b[0mplotly\u001b[0m\u001b[0;34m.\u001b[0m\u001b[0mtools\u001b[0m\u001b[0;34m.\u001b[0m\u001b[0mset_credentials_file\u001b[0m\u001b[0;34m(\u001b[0m\u001b[0musername\u001b[0m\u001b[0;34m=\u001b[0m\u001b[0;34m'stanleychris2'\u001b[0m\u001b[0;34m,\u001b[0m \u001b[0mapi_key\u001b[0m\u001b[0;34m=\u001b[0m\u001b[0;34m'ku12fuc31h'\u001b[0m\u001b[0;34m)\u001b[0m\u001b[0;34m\u001b[0m\u001b[0m\n\u001b[0m",
      "\u001b[0;31mNameError\u001b[0m: name 'plotly' is not defined"
     ]
    }
   ],
   "source": [
    "## all imports\n",
    "from IPython.display import HTML\n",
    "import numpy as np\n",
    "\n",
    "import bs4 #this is beautiful soup\n",
    "import time\n",
    "import operator\n",
    "import socket\n",
    "import pickle\n",
    "import re # regular expressions\n",
    "import datetime as dt\n",
    "import plotly.plotly as py\n",
    "import plotly.graph_objs as go\n",
    "import cufflinks as cf\n",
    "\n",
    "from urllib.request import *\n",
    "from pandas import Series\n",
    "import pandas as pd\n",
    "from pandas import DataFrame\n",
    "\n",
    "\n",
    "import matplotlib\n",
    "import matplotlib.pyplot as plt\n",
    "%matplotlib inline\n",
    "\n",
    "import seaborn as sns\n",
    "#signin plotly api\n",
    "plotly.tools.set_credentials_file(username='stanleychris2', api_key='ku12fuc31h')"
   ]
  },
  {
   "cell_type": "code",
   "execution_count": 3,
   "metadata": {
    "collapsed": false
   },
   "outputs": [],
   "source": [
    "companies = pd.read_csv('companies.csv')"
   ]
  },
  {
   "cell_type": "code",
   "execution_count": 4,
   "metadata": {
    "collapsed": false
   },
   "outputs": [
    {
     "data": {
      "text/html": [
       "<div>\n",
       "<table border=\"1\" class=\"dataframe\">\n",
       "  <thead>\n",
       "    <tr style=\"text-align: right;\">\n",
       "      <th></th>\n",
       "      <th>permalink</th>\n",
       "      <th>name</th>\n",
       "      <th>homepage_url</th>\n",
       "      <th>category_list</th>\n",
       "      <th>market</th>\n",
       "      <th>funding_total_usd</th>\n",
       "      <th>status</th>\n",
       "      <th>country_code</th>\n",
       "      <th>state_code</th>\n",
       "      <th>region</th>\n",
       "      <th>city</th>\n",
       "      <th>funding_rounds</th>\n",
       "      <th>founded_at</th>\n",
       "      <th>first_funding_at</th>\n",
       "      <th>last_funding_at</th>\n",
       "    </tr>\n",
       "  </thead>\n",
       "  <tbody>\n",
       "    <tr>\n",
       "      <th>0</th>\n",
       "      <td>/organization/bratpackstyle-llc</td>\n",
       "      <td>#BratPackStyle, LLC.</td>\n",
       "      <td>http://www.bratpackstyle.com</td>\n",
       "      <td>|Lifestyle|Content Discovery|Social Commerce|R...</td>\n",
       "      <td>Social Commerce</td>\n",
       "      <td>0</td>\n",
       "      <td>operating</td>\n",
       "      <td>USA</td>\n",
       "      <td>NY</td>\n",
       "      <td>New York City</td>\n",
       "      <td>New York</td>\n",
       "      <td>1</td>\n",
       "      <td>2015-04-19</td>\n",
       "      <td>2015-06-01</td>\n",
       "      <td>2015-06-01</td>\n",
       "    </tr>\n",
       "    <tr>\n",
       "      <th>1</th>\n",
       "      <td>/organization/-fame</td>\n",
       "      <td>#fame</td>\n",
       "      <td>http://livfame.com</td>\n",
       "      <td>|Media|</td>\n",
       "      <td>Media</td>\n",
       "      <td>10000000</td>\n",
       "      <td>operating</td>\n",
       "      <td>IND</td>\n",
       "      <td>NaN</td>\n",
       "      <td>Mumbai</td>\n",
       "      <td>Mumbai</td>\n",
       "      <td>1</td>\n",
       "      <td>NaN</td>\n",
       "      <td>2015-01-05</td>\n",
       "      <td>2015-01-05</td>\n",
       "    </tr>\n",
       "    <tr>\n",
       "      <th>2</th>\n",
       "      <td>/organization/hashoff</td>\n",
       "      <td>#HASHOFF</td>\n",
       "      <td>http://www.hashoff.com</td>\n",
       "      <td>|Digital Media|Internet|Social Media|</td>\n",
       "      <td>Digital Media</td>\n",
       "      <td>955000</td>\n",
       "      <td>operating</td>\n",
       "      <td>USA</td>\n",
       "      <td>CO</td>\n",
       "      <td>Denver</td>\n",
       "      <td>Denver</td>\n",
       "      <td>2</td>\n",
       "      <td>2014-04-01</td>\n",
       "      <td>2014-12-08</td>\n",
       "      <td>2015-08-11</td>\n",
       "    </tr>\n",
       "    <tr>\n",
       "      <th>3</th>\n",
       "      <td>/organization/waywire</td>\n",
       "      <td>#waywire</td>\n",
       "      <td>http://www.waywire.com</td>\n",
       "      <td>|Entertainment|Politics|Social Media|News|</td>\n",
       "      <td>News</td>\n",
       "      <td>1750000</td>\n",
       "      <td>acquired</td>\n",
       "      <td>USA</td>\n",
       "      <td>NY</td>\n",
       "      <td>New York City</td>\n",
       "      <td>New York</td>\n",
       "      <td>1</td>\n",
       "      <td>2012-06-01</td>\n",
       "      <td>2012-06-30</td>\n",
       "      <td>2012-06-30</td>\n",
       "    </tr>\n",
       "    <tr>\n",
       "      <th>4</th>\n",
       "      <td>/organization/tv-communications</td>\n",
       "      <td>&amp;TV Communications</td>\n",
       "      <td>http://enjoyandtv.com</td>\n",
       "      <td>|Games|</td>\n",
       "      <td>Games</td>\n",
       "      <td>4000000</td>\n",
       "      <td>operating</td>\n",
       "      <td>USA</td>\n",
       "      <td>CA</td>\n",
       "      <td>Los Angeles</td>\n",
       "      <td>Los Angeles</td>\n",
       "      <td>2</td>\n",
       "      <td>NaN</td>\n",
       "      <td>2010-06-04</td>\n",
       "      <td>2010-09-23</td>\n",
       "    </tr>\n",
       "  </tbody>\n",
       "</table>\n",
       "</div>"
      ],
      "text/plain": [
       "                         permalink                  name  \\\n",
       "0  /organization/bratpackstyle-llc  #BratPackStyle, LLC.   \n",
       "1              /organization/-fame                 #fame   \n",
       "2            /organization/hashoff              #HASHOFF   \n",
       "3            /organization/waywire              #waywire   \n",
       "4  /organization/tv-communications    &TV Communications   \n",
       "\n",
       "                   homepage_url  \\\n",
       "0  http://www.bratpackstyle.com   \n",
       "1            http://livfame.com   \n",
       "2        http://www.hashoff.com   \n",
       "3        http://www.waywire.com   \n",
       "4         http://enjoyandtv.com   \n",
       "\n",
       "                                       category_list           market  \\\n",
       "0  |Lifestyle|Content Discovery|Social Commerce|R...  Social Commerce   \n",
       "1                                            |Media|            Media   \n",
       "2              |Digital Media|Internet|Social Media|    Digital Media   \n",
       "3         |Entertainment|Politics|Social Media|News|             News   \n",
       "4                                            |Games|            Games   \n",
       "\n",
       "   funding_total_usd     status country_code state_code         region  \\\n",
       "0                  0  operating          USA         NY  New York City   \n",
       "1           10000000  operating          IND        NaN         Mumbai   \n",
       "2             955000  operating          USA         CO         Denver   \n",
       "3            1750000   acquired          USA         NY  New York City   \n",
       "4            4000000  operating          USA         CA    Los Angeles   \n",
       "\n",
       "          city  funding_rounds  founded_at first_funding_at last_funding_at  \n",
       "0     New York               1  2015-04-19       2015-06-01      2015-06-01  \n",
       "1       Mumbai               1         NaN       2015-01-05      2015-01-05  \n",
       "2       Denver               2  2014-04-01       2014-12-08      2015-08-11  \n",
       "3     New York               1  2012-06-01       2012-06-30      2012-06-30  \n",
       "4  Los Angeles               2         NaN       2010-06-04      2010-09-23  "
      ]
     },
     "execution_count": 4,
     "metadata": {},
     "output_type": "execute_result"
    }
   ],
   "source": [
    "companies.head()"
   ]
  },
  {
   "cell_type": "code",
   "execution_count": 5,
   "metadata": {
    "collapsed": false,
    "scrolled": true
   },
   "outputs": [],
   "source": [
    "grouped_cities = companies['first_funding_at'].groupby(companies['region'])\n",
    "cities = grouped_cities.count().sort_values(ascending = False)"
   ]
  },
  {
   "cell_type": "code",
   "execution_count": 6,
   "metadata": {
    "collapsed": false
   },
   "outputs": [],
   "source": [
    "other = sum(cities[15:])\n",
    "otherseries = pd.Series(other)\n",
    "cities15 = cities[:14]"
   ]
  },
  {
   "cell_type": "code",
   "execution_count": 7,
   "metadata": {
    "collapsed": false
   },
   "outputs": [
    {
     "data": {
      "text/plain": [
       "<matplotlib.axes._subplots.AxesSubplot at 0x107b0f4a8>"
      ]
     },
     "execution_count": 7,
     "metadata": {},
     "output_type": "execute_result"
    },
    {
     "data": {
      "image/png": "[encoded data removed]",
      "text/plain": [
       "<matplotlib.figure.Figure at 0x110231be0>"
      ]
     },
     "metadata": {},
     "output_type": "display_data"
    }
   ],
   "source": [
    "cities15.plot(kind='bar')"
   ]
  },
  {
   "cell_type": "code",
   "execution_count": 8,
   "metadata": {
    "collapsed": false
   },
   "outputs": [],
   "source": [
    "companies2005 = companies[(companies.first_funding_at >= '2005-01-01') &\n",
    "                          (companies.first_funding_at <= '2006-01-01')]\n",
    "companies2006 = companies[(companies.first_funding_at >= '2006-01-01') & \n",
    "                          (companies.first_funding_at <= '2007-01-01')]\n",
    "companies2007 = companies[(companies.first_funding_at >= '2007-01-01') & \n",
    "                          (companies.first_funding_at <= '2008-01-01')]\n",
    "companies2008 = companies[(companies.first_funding_at >= '2008-01-01') & \n",
    "                          (companies.first_funding_at <= '2009-01-01')]\n",
    "companies2009 = companies[(companies.first_funding_at >= '2009-01-01') & \n",
    "                          (companies.first_funding_at <= '2010-01-01')]\n",
    "companies2010 = companies[(companies.first_funding_at >= '2010-01-01') & \n",
    "                          (companies.first_funding_at <= '2011-01-01')]\n",
    "companies2011 = companies[(companies.first_funding_at >= '2011-01-01') & \n",
    "                          (companies.first_funding_at <= '2012-01-01')]\n",
    "companies2012 = companies[(companies.first_funding_at >= '2012-01-01') & \n",
    "                          (companies.first_funding_at <= '2013-01-01')]\n",
    "companies2013 = companies[(companies.first_funding_at >= '2013-01-01') & \n",
    "                          (companies.first_funding_at <= '2014-01-01')]\n",
    "companies2014 = companies[(companies.first_funding_at >= '2014-01-01') & \n",
    "                          (companies.first_funding_at <= '2015-01-01')]\n",
    "companies2015 = companies[(companies.first_funding_at >= '2015-01-01') & \n",
    "                          (companies.first_funding_at <= '2016-01-01')]\n",
    "\n",
    "#print(companies2005.region.count())\n",
    "#companies_2005_count = companies2005.region.count()\n",
    "companies_2005_regions = companies2005['first_funding_at'].groupby(companies2005['region'])\n",
    "regions_2005 = companies_2005_regions.count().sort_values(ascending = False)\n",
    "\n",
    "companies_2006_regions = companies2006['first_funding_at'].groupby(companies2006['region'])\n",
    "regions_2006 = companies_2006_regions.count().sort_values(ascending = False)"
   ]
  },
  {
   "cell_type": "code",
   "execution_count": 9,
   "metadata": {
    "collapsed": false,
    "scrolled": false
   },
   "outputs": [
    {
     "data": {
      "text/html": [
       "<div>\n",
       "<table border=\"1\" class=\"dataframe\">\n",
       "  <thead>\n",
       "    <tr style=\"text-align: right;\">\n",
       "      <th></th>\n",
       "      <th>2005</th>\n",
       "      <th>2006</th>\n",
       "      <th>2007</th>\n",
       "      <th>2008</th>\n",
       "      <th>2009</th>\n",
       "      <th>2010</th>\n",
       "      <th>2011</th>\n",
       "      <th>2012</th>\n",
       "      <th>2013</th>\n",
       "      <th>2014</th>\n",
       "    </tr>\n",
       "  </thead>\n",
       "  <tbody>\n",
       "    <tr>\n",
       "      <th>SF Bay Area</th>\n",
       "      <td>364</td>\n",
       "      <td>495</td>\n",
       "      <td>622</td>\n",
       "      <td>526</td>\n",
       "      <td>629</td>\n",
       "      <td>728</td>\n",
       "      <td>1003</td>\n",
       "      <td>1076</td>\n",
       "      <td>1206</td>\n",
       "      <td>1267</td>\n",
       "    </tr>\n",
       "    <tr>\n",
       "      <th>New York City</th>\n",
       "      <td>58</td>\n",
       "      <td>110</td>\n",
       "      <td>159</td>\n",
       "      <td>153</td>\n",
       "      <td>223</td>\n",
       "      <td>321</td>\n",
       "      <td>425</td>\n",
       "      <td>467</td>\n",
       "      <td>583</td>\n",
       "      <td>660</td>\n",
       "    </tr>\n",
       "    <tr>\n",
       "      <th>Boston</th>\n",
       "      <td>88</td>\n",
       "      <td>104</td>\n",
       "      <td>112</td>\n",
       "      <td>114</td>\n",
       "      <td>231</td>\n",
       "      <td>249</td>\n",
       "      <td>262</td>\n",
       "      <td>250</td>\n",
       "      <td>269</td>\n",
       "      <td>236</td>\n",
       "    </tr>\n",
       "    <tr>\n",
       "      <th>London</th>\n",
       "      <td>53</td>\n",
       "      <td>90</td>\n",
       "      <td>110</td>\n",
       "      <td>116</td>\n",
       "      <td>116</td>\n",
       "      <td>153</td>\n",
       "      <td>233</td>\n",
       "      <td>292</td>\n",
       "      <td>427</td>\n",
       "      <td>462</td>\n",
       "    </tr>\n",
       "    <tr>\n",
       "      <th>Los Angeles</th>\n",
       "      <td>38</td>\n",
       "      <td>56</td>\n",
       "      <td>83</td>\n",
       "      <td>105</td>\n",
       "      <td>135</td>\n",
       "      <td>165</td>\n",
       "      <td>206</td>\n",
       "      <td>252</td>\n",
       "      <td>262</td>\n",
       "      <td>362</td>\n",
       "    </tr>\n",
       "    <tr>\n",
       "      <th>Seattle</th>\n",
       "      <td>52</td>\n",
       "      <td>43</td>\n",
       "      <td>68</td>\n",
       "      <td>68</td>\n",
       "      <td>112</td>\n",
       "      <td>126</td>\n",
       "      <td>117</td>\n",
       "      <td>126</td>\n",
       "      <td>163</td>\n",
       "      <td>156</td>\n",
       "    </tr>\n",
       "    <tr>\n",
       "      <th>Washington, D.C.</th>\n",
       "      <td>53</td>\n",
       "      <td>38</td>\n",
       "      <td>41</td>\n",
       "      <td>42</td>\n",
       "      <td>78</td>\n",
       "      <td>97</td>\n",
       "      <td>110</td>\n",
       "      <td>121</td>\n",
       "      <td>157</td>\n",
       "      <td>160</td>\n",
       "    </tr>\n",
       "    <tr>\n",
       "      <th>Chicago</th>\n",
       "      <td>14</td>\n",
       "      <td>17</td>\n",
       "      <td>25</td>\n",
       "      <td>32</td>\n",
       "      <td>56</td>\n",
       "      <td>89</td>\n",
       "      <td>104</td>\n",
       "      <td>161</td>\n",
       "      <td>151</td>\n",
       "      <td>172</td>\n",
       "    </tr>\n",
       "    <tr>\n",
       "      <th>San Diego</th>\n",
       "      <td>28</td>\n",
       "      <td>37</td>\n",
       "      <td>44</td>\n",
       "      <td>33</td>\n",
       "      <td>115</td>\n",
       "      <td>90</td>\n",
       "      <td>86</td>\n",
       "      <td>86</td>\n",
       "      <td>98</td>\n",
       "      <td>143</td>\n",
       "    </tr>\n",
       "    <tr>\n",
       "      <th>Denver</th>\n",
       "      <td>25</td>\n",
       "      <td>28</td>\n",
       "      <td>32</td>\n",
       "      <td>47</td>\n",
       "      <td>78</td>\n",
       "      <td>86</td>\n",
       "      <td>97</td>\n",
       "      <td>96</td>\n",
       "      <td>93</td>\n",
       "      <td>144</td>\n",
       "    </tr>\n",
       "  </tbody>\n",
       "</table>\n",
       "</div>"
      ],
      "text/plain": [
       "                  2005  2006  2007  2008  2009  2010  2011  2012  2013  2014\n",
       "SF Bay Area        364   495   622   526   629   728  1003  1076  1206  1267\n",
       "New York City       58   110   159   153   223   321   425   467   583   660\n",
       "Boston              88   104   112   114   231   249   262   250   269   236\n",
       "London              53    90   110   116   116   153   233   292   427   462\n",
       "Los Angeles         38    56    83   105   135   165   206   252   262   362\n",
       "Seattle             52    43    68    68   112   126   117   126   163   156\n",
       "Washington, D.C.    53    38    41    42    78    97   110   121   157   160\n",
       "Chicago             14    17    25    32    56    89   104   161   151   172\n",
       "San Diego           28    37    44    33   115    90    86    86    98   143\n",
       "Denver              25    28    32    47    78    86    97    96    93   144"
      ]
     },
     "execution_count": 9,
     "metadata": {},
     "output_type": "execute_result"
    }
   ],
   "source": [
    "data = {\n",
    "        '2014': companies2014.region.value_counts(),\n",
    "        '2013': companies2013.region.value_counts(),\n",
    "        '2012': companies2012.region.value_counts(),\n",
    "        '2011': companies2011.region.value_counts(),\n",
    "        '2010': companies2010.region.value_counts(),\n",
    "        '2009': companies2009.region.value_counts(),\n",
    "        '2008': companies2008.region.value_counts(),\n",
    "        '2007': companies2007.region.value_counts(),\n",
    "        '2006': companies2006.region.value_counts(),\n",
    "        '2005': companies2005.region.value_counts(),\n",
    "       }\n",
    "c = pd.DataFrame(data)\n",
    "top = c.reindex([\"SF Bay Area\", \"New York City\", \"Boston\", \"London\", \"Los Angeles\", \"Seattle\", \"Washington, D.C.\", \"Chicago\", \n",
    "           \"San Diego\", \"Denver\"])\n",
    "top"
   ]
  },
  {
   "cell_type": "code",
   "execution_count": 10,
   "metadata": {
    "collapsed": false
   },
   "outputs": [],
   "source": [
    "top = top.T"
   ]
  },
  {
   "cell_type": "code",
   "execution_count": 11,
   "metadata": {
    "collapsed": false
   },
   "outputs": [],
   "source": [
    "cf.set_config_file(offline=False, world_readable=True, theme='ggplot')"
   ]
  },
  {
   "cell_type": "code",
   "execution_count": 12,
   "metadata": {
    "collapsed": false,
    "scrolled": true
   },
   "outputs": [
    {
     "data": {
      "text/html": [
       "<iframe id=\"igraph\" scrolling=\"no\" style=\"border:none;\"seamless=\"seamless\" src=\"https://plot.ly/~stanleychris2/12.embed\" height=\"525px\" width=\"100%\"></iframe>"
      ],
      "text/plain": [
       "<plotly.tools.PlotlyDisplay object>"
      ]
     },
     "execution_count": 12,
     "metadata": {},
     "output_type": "execute_result"
    }
   ],
   "source": [
    "top.iplot(filename=\"Companies_Per_Region_Since_2005\")"
   ]
  }
 ],
 "metadata": {
  "kernelspec": {
   "display_name": "Python 3",
   "language": "python",
   "name": "python3"
  },
  "language_info": {
   "codemirror_mode": {
    "name": "ipython",
    "version": 3
   },
   "file_extension": ".py",
   "mimetype": "text/x-python",
   "name": "python",
   "nbconvert_exporter": "python",
   "pygments_lexer": "ipython3",
   "version": "3.5.0"
  }
 },
 "nbformat": 4,
 "nbformat_minor": 0
}
