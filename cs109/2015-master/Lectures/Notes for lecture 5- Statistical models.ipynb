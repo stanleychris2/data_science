{
 "cells": [
  {
   "cell_type": "markdown",
   "metadata": {},
   "source": [
    "# Statistical models"
   ]
  },
  {
   "cell_type": "markdown",
   "metadata": {},
   "source": [
    "Books: Stastical models - AC Davison, David Freedman - be familiar with parametic, non-parametric, baysian + frequentists, there are no routine statistical questions, just questional statistical routines... Gotta try different things\n",
    "\n",
    "Gotta know model/method assumptions \n",
    "\n",
    "If you can attack the same problem in multiple ways, thats much better, it forces you to think much harder about your assumptions and the data"
   ]
  },
  {
   "cell_type": "markdown",
   "metadata": {},
   "source": [
    "parametric -  finite-dimensional parameter space... eg. mean and variance for a normal\n",
    "\n",
    "non-parametric - infinite dimensional parameter space - is very general, but nto free lunch, remember to plot and explore the data"
   ]
  },
  {
   "cell_type": "markdown",
   "metadata": {},
   "source": [
    "#### Parametric model example \n",
    "Exponential distribution\n",
    "Density is not a probability, density is what you integrate to get the probability... integrate the density to find the probability... i.e. what's the probability that X is between 4 and 5... integrate that density and you will find out"
   ]
  },
  {
   "cell_type": "markdown",
   "metadata": {},
   "source": [
    "#### cdf - cumulative distribution function\n",
    "\n",
    "Both have memoryless property.. time it will take to solve an unsolved open problem... where its unclear to measure progress... there is no movement forward. because you don't know where you're goint to. \n",
    "\n",
    "#### Weibel distribution - used in modeling biostatistics etc... Basically just cubing the exponential distribution\n",
    "\n",
    "#### Poisson distribution - the single most important discrete distribution, modeling 'counts'\n",
    "\n",
    "imagine you have unlikely individual events... this is very good for estimting that... # of mutations in genetics, $ of traffic accidents at intersection... # of emails received in the next 1 minute, any 1 person is very unlikely to email me... # of credit defaults\n",
    "\n",
    "\n",
    "\"Poisson is a model, a model is a family of distributions... So how do you know which distribution to use\"\n",
    "Poisson only has 1 parametier - lambda, we take the average and use that as our estimate for the model... we do that reasonably well... \n",
    "\n",
    "if you want to esimate this better, use extensions : zero-inflated poisson, negative binomical... \n",
    "\n",
    "#### Normal, Gaussian Distribution - 68, 95, 99.7 rule, symmetry, central limit therom, characterizations vs entropy... \n",
    "\n",
    "if you have positive data... take the log... the log normal distribution... \n",
    "\n",
    "kai-squared is based on normal... lognormal is based on normal\n",
    "\n",
    "\n",
    "binomial is sum of bernoullis (basically central limit therom)\n",
    "\n",
    "\n",
    "Cauchy distribution - built off the normal distribution \n",
    "\n",
    "#### Bootstrap (efron, 1979)\n"
   ]
  },
  {
   "cell_type": "markdown",
   "metadata": {},
   "source": []
  }
 ],
 "metadata": {
  "kernelspec": {
   "display_name": "Python 3",
   "language": "python",
   "name": "python3"
  },
  "language_info": {
   "codemirror_mode": {
    "name": "ipython",
    "version": 3
   },
   "file_extension": ".py",
   "mimetype": "text/x-python",
   "name": "python",
   "nbconvert_exporter": "python",
   "pygments_lexer": "ipython3",
   "version": "3.5.0"
  }
 },
 "nbformat": 4,
 "nbformat_minor": 0
}
